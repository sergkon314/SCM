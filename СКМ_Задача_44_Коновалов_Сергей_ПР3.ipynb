{
  "nbformat": 4,
  "nbformat_minor": 0,
  "metadata": {
    "colab": {
      "provenance": [],
      "authorship_tag": "ABX9TyObI0z6OXIQOyZgAcFHEJZF"
    },
    "kernelspec": {
      "name": "python3",
      "display_name": "Python 3"
    },
    "language_info": {
      "name": "python"
    }
  },
  "cells": [
    {
      "cell_type": "code",
      "source": [
        "import numpy as np\n",
        "import matplotlib.pyplot as plt\n",
        "from scipy import optimize\n",
        "from scipy import special\n",
        "%matplotlib inline"
      ],
      "metadata": {
        "id": "ggqYe2ha3woD"
      },
      "execution_count": 6,
      "outputs": []
    },
    {
      "cell_type": "markdown",
      "source": [
        "## 44. Эллипс\n",
        "Уравнение *эллипса*:$$\n",
        "\\frac{x^2}{a^2} + \\frac{y^2}{b^2} = 1\n",
        "$$\n",
        "Периметр эллипса равен\n",
        "$$\n",
        "L=4a\\int \\limits _{0}^{\\pi /2}{\\sqrt{1-\\varepsilon^2\\cos^2\\varphi}}\\,d\\varphi = 4a E(\\varepsilon),\n",
        "$$ \n",
        "где $E(\\varepsilon)$ -- полный эллиптический интеграл 2-го рода.\n",
        "\n",
        " Условие:\n",
        "\n",
        " 1) Проволоку длиной $10$ *см* хотят изогнуть в виде эллипса, так, чтобы одна из его полуосей равнялась $1$ *см*. Чему равна вторая полуось? Запишите соответствующее уравнение и решите его численно. Постройте полученный эллипс (позаботьтесь, чтобы масштаб по обеим осям был одинаковым).\n",
        " \n",
        " 2) Сравните ваше решение с тем, которое получается, если для вычисления $L$ использовать приближенную формулу\n",
        "$$\n",
        "L\\approx 4\\cdot{\\frac {\\pi ab+(a-b)^{2}}{a+b}}.\n",
        "$$ \n",
        "  1) Пусть меньшая полуось $b = 1$, \n",
        "$$\\varepsilon={\\sqrt {1-{\\frac {1}{a^{2}}}}}, a \\neq 0$$\n",
        "  Тогда \n",
        "  $$L=4a\\int \\limits _{0}^{\\pi /2}{\\sqrt{1-{(1-{\\frac {1}{a^{2}})}}\\cos^2\\varphi}}\\,d\\varphi = 4a E(\\sqrt {1-{\\frac {1}{a^{2}}}}) = 10$$\n",
        "  Требуется найти такое значение $a$, при котором $L\\approx10$.\n",
        "  \n",
        "  Для нахождения $a$ используем метод `scipy.optimize.brentq`, который возвращает значение аргумента функции, при котором она обращается в $0$. Если такого числа нет в данном промежутке, возвращает значение при котором функция  принимает значение ближайше к $0$.\n",
        "\n",
        "  Так как эллиптический интеграл второго рода нельзя вычислить символьно, используем метод `scipy.special.ellipe` для его численного вычисления.\n",
        "  \n",
        "  Тогда:\n"
      ],
      "metadata": {
        "id": "Ar96Qbn_9VCy"
      }
    },
    {
      "cell_type": "code",
      "source": [
        "b = 1\n",
        "\n",
        "def f(a):\n",
        "    e_sq = 1 - b**2/a**2\n",
        "    return 4*a*special.ellipe(e_sq) - 10 # зануляем значение f\n",
        "\n",
        "def g(a):\n",
        "    e_sq = 1 - b**2/a**2\n",
        "    return 4*a*special.ellipe(e_sq)\n",
        "\n",
        "a = optimize.brentq(f, 1e-100, 4) #за левую границу берем наименьшее число ~0\n",
        "L = g(a)\n",
        "print(\"L = \", L, \"при a = \", a)"
      ],
      "metadata": {
        "colab": {
          "base_uri": "https://localhost:8080/"
        },
        "id": "VVEr3McIhUzp",
        "outputId": "27b588eb-b349-4ceb-95ba-a649a70bbf2a"
      },
      "execution_count": 7,
      "outputs": [
        {
          "output_type": "stream",
          "name": "stdout",
          "text": [
            "L =  10.00000000000017 при a =  2.08668972105075\n"
          ]
        }
      ]
    },
    {
      "cell_type": "markdown",
      "source": [
        "Следовательно, $L\\approx10$, при $b = 1$ и $a\\approx2.08668972105075$\n",
        "\n",
        "График такого эллипса будет выглядеть следующим образом:"
      ],
      "metadata": {
        "id": "yN6MfnXtjuZa"
      }
    },
    {
      "cell_type": "code",
      "source": [
        "t = np.linspace(0, 2*np.pi, 100)\n",
        "plt.xlim([-2.5,2.5])\n",
        "plt.ylim([-2.5,2.5])\n",
        "plt.plot(a*np.cos(t), b*np.sin(t))\n",
        "plt.grid()"
      ],
      "metadata": {
        "id": "yuo8VskyjPTd",
        "colab": {
          "base_uri": "https://localhost:8080/",
          "height": 430
        },
        "outputId": "540d807d-da9a-4431-aeb4-2029a8c949f6"
      },
      "execution_count": 8,
      "outputs": [
        {
          "output_type": "display_data",
          "data": {
            "text/plain": [
              "<Figure size 640x480 with 1 Axes>"
            ],
            "image/png": "[encoded data removed]"
          },
          "metadata": {}
        }
      ]
    },
    {
      "cell_type": "markdown",
      "source": [
        "2) Используем упрощенную формулу расчета периметра эллипса "
      ],
      "metadata": {
        "id": "xereM62nqPGL"
      }
    },
    {
      "cell_type": "code",
      "source": [
        "b = 1\n",
        "def f(a):\n",
        "  return 4*(np.pi*a*b +(a-b)**2)/(a+b) - 10 #упрощенная формула периметра\n",
        "    \n",
        "a_s = optimize.brentq(f, 1e-100, 4)\n",
        "L_s = 4*(np.pi*a_s*b + (a_s - b)**2) / (a_s + b)\n",
        "print(\"L = \", L_s, \"при a = \", a_s)"
      ],
      "metadata": {
        "colab": {
          "base_uri": "https://localhost:8080/"
        },
        "id": "Q-nOXg14qvJt",
        "outputId": "1969168a-e2c7-4a74-8614-fc26a7a6d12c"
      },
      "execution_count": 12,
      "outputs": [
        {
          "output_type": "stream",
          "name": "stdout",
          "text": [
            "L =  10.000000000000291 при a =  2.0796741761774187\n"
          ]
        }
      ]
    },
    {
      "cell_type": "markdown",
      "source": [
        "Сравнивая результаты, получаем:"
      ],
      "metadata": {
        "id": "JrRxVhcd_s8Y"
      }
    },
    {
      "cell_type": "code",
      "source": [
        "L_diff = (abs(10 - L)/10)*100\n",
        "L_s_diff = (abs(10 - L_s)/10)*100\n",
        "print(\"Ошибка при вычислении через Е(е) L = \", L_diff, \n",
        "      \"\\nОшибка при вычислении по упрощенной формуле L_s = \", L_s_diff)"
      ],
      "metadata": {
        "colab": {
          "base_uri": "https://localhost:8080/"
        },
        "id": "u9RitET0_rEP",
        "outputId": "fc5dab4f-5cee-4e8f-dafe-4fc7cf2c5314"
      },
      "execution_count": 19,
      "outputs": [
        {
          "output_type": "stream",
          "name": "stdout",
          "text": [
            "Ошибка при вычислении через Е(е) L =  1.7053025658242404e-12 \n",
            "Ошибка при вычислении по упрощенной формуле L_s =  2.9132252166164104e-12\n"
          ]
        }
      ]
    },
    {
      "cell_type": "markdown",
      "source": [
        "Видим, что численное вычисление периметра эллипса через *эллиптические интегралы второго рода* дает более точный результат, чем вычисление по упрощенной формуле.\n",
        "\n",
        "**Вывод:** Я нашел искомые параметры эллипса, пользуясь численным вычислением эллиптического интегралла второго рода, а также сравнил эти результаты с теми, которые получил, пользуясь в вычислениях *упрощенную формулу периметра эллипса* и показал, что при её использовании мы получаем менее точный результат, нежели при использовании *эллиптического интеграла второго рода*.  "
      ],
      "metadata": {
        "id": "bksjG65LrekL"
      }
    }
  ]
}